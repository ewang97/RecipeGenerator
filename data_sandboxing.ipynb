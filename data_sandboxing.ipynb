{
 "cells": [
  {
   "cell_type": "code",
   "execution_count": 1,
   "metadata": {},
   "outputs": [],
   "source": [
    "import os\n",
    "import numpy as np\n",
    "import pandas as pd\n",
    "import matplotlib.pyplot as plt\n",
    "import torch\n",
    "from torch import nn\n",
    "from torch import optim\n",
    "import torchvision\n",
    "from torchvision import datasets, transforms, models\n",
    "from torch.nn.utils.rnn import pad_sequence\n",
    "from torch.utils.data import Dataset, DataLoader\n",
    "from collections import OrderedDict\n",
    "from PIL import Image\n",
    "import seaborn as sns\n",
    "import splitfolders\n",
    "from IPython.display import display, HTML\n",
    "\n",
    "import torchtext\n",
    "from torchtext.data import get_tokenizer   # for tokenization\n",
    "from collections import Counter     # for tokenizer\n"
   ]
  },
  {
   "cell_type": "code",
   "execution_count": 2,
   "metadata": {},
   "outputs": [],
   "source": [
    "# splitfolders.ratio(\"Food Images\", output=\"food_images\", \n",
    "#                    seed=30, ratio=(.7, .2, .1), \n",
    "#                    group_prefix=None)"
   ]
  },
  {
   "cell_type": "code",
   "execution_count": 3,
   "metadata": {},
   "outputs": [
    {
     "data": {
      "text/plain": [
       "'crispy-salt-and-pepper-potatoes-dan-kluger'"
      ]
     },
     "execution_count": 3,
     "metadata": {},
     "output_type": "execute_result"
    }
   ],
   "source": [
    "data_df = pd.read_csv('Food Ingredients and Recipe Dataset with Image Name Mapping.csv')\n",
    "data_df.iloc[1,4]"
   ]
  },
  {
   "cell_type": "code",
   "execution_count": 4,
   "metadata": {},
   "outputs": [],
   "source": [
    "data_dir = './food_images'\n",
    "train_dir = data_dir + '/train'\n",
    "valid_dir = data_dir + '/val'\n",
    "test_dir = data_dir + '/test'"
   ]
  },
  {
   "cell_type": "code",
   "execution_count": 5,
   "metadata": {},
   "outputs": [],
   "source": [
    "# img,recipe_tokens = torch_data[10]\n",
    "\n",
    "# fig, ax = plt.subplots()\n",
    "# img\n"
   ]
  },
  {
   "cell_type": "code",
   "execution_count": 6,
   "metadata": {},
   "outputs": [],
   "source": [
    "# [torch_data.vocab.itos[token] for token in recipe_tokens.tolist()]"
   ]
  },
  {
   "cell_type": "code",
   "execution_count": 7,
   "metadata": {},
   "outputs": [],
   "source": [
    "# image_data_ref = pd.read_csv('Food Ingredients and Recipe Dataset with Image Name Mapping.csv')\n",
    "# image_data_ref.ndim\n",
    "# display(image_data_ref)\n"
   ]
  },
  {
   "cell_type": "code",
   "execution_count": 8,
   "metadata": {},
   "outputs": [],
   "source": [
    "##recipe"
   ]
  },
  {
   "cell_type": "code",
   "execution_count": 10,
   "metadata": {},
   "outputs": [
    {
     "name": "stderr",
     "output_type": "stream",
     "text": [
      "C:\\Users\\erice\\AppData\\Local\\Packages\\PythonSoftwareFoundation.Python.3.10_qbz5n2kfra8p0\\LocalCache\\local-packages\\Python310\\site-packages\\torchvision\\models\\_utils.py:208: UserWarning: The parameter 'pretrained' is deprecated since 0.13 and may be removed in the future, please use 'weights' instead.\n",
      "  warnings.warn(\n",
      "C:\\Users\\erice\\AppData\\Local\\Packages\\PythonSoftwareFoundation.Python.3.10_qbz5n2kfra8p0\\LocalCache\\local-packages\\Python310\\site-packages\\torchvision\\models\\_utils.py:223: UserWarning: Arguments other than a weight enum or `None` for 'weights' are deprecated since 0.13 and may be removed in the future. The current behavior is equivalent to passing `weights=ResNet101_Weights.IMAGENET1K_V1`. You can also use `weights=ResNet101_Weights.DEFAULT` to get the most up-to-date weights.\n",
      "  warnings.warn(msg)\n"
     ]
    },
    {
     "data": {
      "text/plain": [
       "<All keys matched successfully>"
      ]
     },
     "execution_count": 10,
     "metadata": {},
     "output_type": "execute_result"
    }
   ],
   "source": [
    "from dataloader import *\n",
    "from model import *\n",
    "\n",
    "train_transforms = transforms.Compose([transforms.RandomRotation(30),\n",
    "                                       transforms.RandomResizedCrop(256),\n",
    "                                       transforms.RandomHorizontalFlip(),\n",
    "                                       transforms.ToTensor(),\n",
    "                                       transforms.Normalize([0.485,0.456,0.406],\n",
    "                                                           [0.229,0.224,0.225])])\n",
    "torch_data = CustomDataset(recipe_csv='Food Ingredients and Recipe Dataset with Image Name Mapping.csv',\n",
    "                                    img_dir='Food Images', transform=train_transforms)\n",
    "\n",
    "path = 'my_checkpoint.pth.tar'\n",
    "checkpoint = torch.load(path)\n",
    "\n",
    "device = torch.device(\"cuda\" if torch.cuda.is_available() else \"cpu\")\n",
    "# Hyperparameters\n",
    "embed_size = 256\n",
    "hidden_size = 256\n",
    "vocab_size = len(torch_data.vocab)\n",
    "num_layers = 2\n",
    "learning_rate = 3e-4\n",
    "num_epochs = 1\n",
    "\n",
    "model = CNNtoRNN(embed_size, hidden_size, vocab_size, num_layers).to(device)\n",
    "model.load_state_dict(checkpoint['state_dict'])\n",
    "\n",
    "# No use\n",
    "# optimizer.load_state_dict(checkpoint['optimizer_state_dict'])\n",
    "# epoch = checkpoint['epoch']  # ALREADY DEFFINED ABOE\n",
    "# loss = checkpoint['loss']"
   ]
  },
  {
   "cell_type": "code",
   "execution_count": 102,
   "metadata": {},
   "outputs": [
    {
     "data": {
      "text/plain": [
       "'<START> heat a small bowl . heat 1 tablespoon oil in a saucepan heat , then mix together and sugar , beat butter and sugar in a bowl and cook , covered , until combined . remove from heat and simmer , swirling internal heat , 1 minute . add dough and half of parsley in plates . add 1/4 cup oil and 1 tsp . add pecans and cook until reduced to boil , often , 20 minutes . pour half . rewarm rice and serve . <END>'"
      ]
     },
     "execution_count": 102,
     "metadata": {},
     "output_type": "execute_result"
    }
   ],
   "source": [
    "model.eval()\n",
    "train_transforms = transforms.Compose([transforms.RandomRotation(30),\n",
    "                                       transforms.RandomResizedCrop(256),\n",
    "                                       transforms.RandomHorizontalFlip(),\n",
    "                                       transforms.ToTensor(),\n",
    "                                       transforms.Normalize([0.485,0.456,0.406],\n",
    "                                                           [0.229,0.224,0.225])])\n",
    "test_img1 = train_transforms(Image.open(\"Food Images/12-minute-saucy-chicken-breasts-with-limes.jpg\").convert(\"RGB\")).unsqueeze(0)\n",
    "teststr = model.recipe_generate(test_img1, torch_data.vocab, max_length = 500)\n",
    "\" \".join(teststr)\n",
    "\n"
   ]
  },
  {
   "cell_type": "code",
   "execution_count": 103,
   "metadata": {},
   "outputs": [
    {
     "data": {
      "text/plain": [
       "['heat',\n",
       " 'a',\n",
       " 'small',\n",
       " 'bowl',\n",
       " '.',\n",
       " 'heat',\n",
       " '1',\n",
       " 'tablespoon',\n",
       " 'oil',\n",
       " 'in',\n",
       " 'a',\n",
       " 'saucepan',\n",
       " 'heat',\n",
       " ',',\n",
       " 'then',\n",
       " 'mix',\n",
       " 'together',\n",
       " 'and',\n",
       " 'sugar',\n",
       " ',',\n",
       " 'beat',\n",
       " 'butter',\n",
       " 'and',\n",
       " 'sugar',\n",
       " 'in',\n",
       " 'a',\n",
       " 'bowl',\n",
       " 'and',\n",
       " 'cook',\n",
       " ',',\n",
       " 'covered',\n",
       " ',',\n",
       " 'until',\n",
       " 'combined',\n",
       " '.',\n",
       " 'remove',\n",
       " 'from',\n",
       " 'heat',\n",
       " 'and',\n",
       " 'simmer',\n",
       " ',',\n",
       " 'swirling',\n",
       " 'internal',\n",
       " 'heat',\n",
       " ',',\n",
       " '1',\n",
       " 'minute',\n",
       " '.',\n",
       " 'add',\n",
       " 'dough',\n",
       " 'and',\n",
       " 'half',\n",
       " 'of',\n",
       " 'parsley',\n",
       " 'in',\n",
       " 'plates',\n",
       " '.',\n",
       " 'add',\n",
       " '1/4',\n",
       " 'cup',\n",
       " 'oil',\n",
       " 'and',\n",
       " '1',\n",
       " 'tsp',\n",
       " '.',\n",
       " 'add',\n",
       " 'pecans',\n",
       " 'and',\n",
       " 'cook',\n",
       " 'until',\n",
       " 'reduced',\n",
       " 'to',\n",
       " 'boil',\n",
       " ',',\n",
       " 'often',\n",
       " ',',\n",
       " '20',\n",
       " 'minutes',\n",
       " '.',\n",
       " 'pour',\n",
       " 'half',\n",
       " '.',\n",
       " 'rewarm',\n",
       " 'rice',\n",
       " 'and',\n",
       " 'serve',\n",
       " '.',\n",
       " '<END>']"
      ]
     },
     "execution_count": 103,
     "metadata": {},
     "output_type": "execute_result"
    }
   ],
   "source": [
    "teststr.remove('<START>')\n",
    "teststr"
   ]
  },
  {
   "cell_type": "code",
   "execution_count": 104,
   "metadata": {},
   "outputs": [
    {
     "name": "stdout",
     "output_type": "stream",
     "text": [
      "['place', 'a', '10', 'cast-iron', 'skillet', 'in', 'oven', 'preheat', 'oven', 'to', '475°f', '.', 'lay', 'your', 'hands', 'on', 'another', 'heavy', 'skillet', 'or', 'saucepan', 'the', 'same', 'diameter', 'or', 'smaller', 'and', 'tear', 'off', 'an', '8', 'piece', 'of', 'foil', 'set', 'aside', 'near', 'stove', '.', 'mix', 'cumin', ',', 'turmeric', ',', 'paprika', ',', 'and', '1', 'tsp', '.', 'salt', 'in', 'a', 'small', 'bowl', '.', 'brace', 'yourself', 'this', 'next', 'step', 'requires', 'some', 'light', 'butchery', ',', 'but', 'it’s', 'easy', '.', 'place', 'chicken', 'skin', 'side', 'down', 'on', 'a', 'cutting', 'board', 'and', 'find', 'the', 'short', 'row', 'of', 'small', 'rib', 'bones', 'near', 'the', 'outer', 'edge', 'of', 'the', 'breast', '.', 'grip', 'them', 'with', 'your', 'fingers', 'and', 'pull', 'them', 'off', '(', 'or', 'use', 'a', 'paring', 'knife', 'or', 'shears', ')', '.', 'next', 'along', 'the', 'center', 'line', 'where', 'the', 'breast', 'was', 'cut', 'in', 'half', ',', 'there’s', 'a', 'dark', ',', 'vaguely', 'rectangular', 'bone—it', 'almost', 'looks', 'like', 'an', 'anvil', '.', 'sometimes', 'it’s', 'in', 'one', 'piece', ',', 'or', 'both', 'sides', 'will', 'have', 'a', 'half', 'of', 'it', '.', 'it', 'doesn’t', 'matter', 'grip', 'the', 'bone', 'with', 'your', 'fingers', 'and', 'pull', 'it', 'out', ',', 'then', 'tease', 'out', 'the', 'strip', 'of', 'flexible', 'cartilage', 'just', 'below', 'it', '.', 'all', 'done', '!', 'now', 'the', 'chicken', 'will', 'lay', 'flat', 'in', 'the', 'pan', ',', 'which', 'is', 'why', 'it', 'cooks', 'so', 'quickly', '.', 'season', 'both', 'sides', 'of', 'chicken', 'with', 'salt', ',', 'then', 'with', 'all', 'of', 'the', 'spice', 'rub', '.', 'remove', 'hot', 'skillet', 'from', 'oven', 'and', 'set', 'over', 'medium-high', 'heat', '.', 'add', 'oil', ',', 'then', 'lay', 'chicken', 'into', 'pan', ',', 'skin', 'side', 'down', '.', 'use', 'a', 'spatula', 'to', 'firmly', 'press', 'chicken', 'against', 'surface', ',', 'then', 'add', '1', 'lime', 'to', 'pan', ',', 'placing', 'sides', 'down', '.', 'cook', 'until', 'skin', 'is', 'starting', 'to', 'brown', ',', 'about', '2', 'minutes', '.', 'transfer', 'skillet', 'to', 'oven', ',', 'lay', 'reserved', 'foil', 'over', 'chicken', ',', 'then', 'weight', 'with', 'second', 'pan', '.', 'cook', '10', 'minutes', '.', 'remove', 'pan', 'from', 'oven', 'and', 'turn', 'chicken', 'over', 'cook', 'second', 'side', 'in', 'residual', 'heat', '1', 'minute', '.', 'squeeze', 'juice', 'from', 'cooked', 'limes', 'into', 'pan', 'transfer', 'chicken', 'and', 'pan', 'juices', 'to', 'a', 'plate', 'and', 'serve', 'with', 'remaining', 'lime', 'halves', '.']\n"
     ]
    },
    {
     "data": {
      "text/plain": [
       "337"
      ]
     },
     "execution_count": 104,
     "metadata": {},
     "output_type": "execute_result"
    }
   ],
   "source": [
    "refstr = 'Place a 10\"\" cast-iron skillet in oven; preheat oven to 475°F. Lay your hands on another heavy skillet or saucepan the same diameter or smaller and tear off an 8\"\" piece of foil; set aside near stove. Mix cumin, turmeric, paprika, and 1 tsp. salt in a small bowl. Brace yourself: This next step requires some light butchery, but it’s easy. Place chicken skin side down on a cutting board and find the short row of small rib bones near the outer edge of the breast. Grip them with your fingers and pull them off (or use a paring knife or shears). Next: along the center line where the breast was cut in half, there’s a dark, vaguely rectangular bone—it almost looks like an anvil. Sometimes it’s in one piece, or both sides will have a half of it. It doesn’t matter: Grip the bone with your fingers and pull it out, then tease out the strip of flexible cartilage just below it. All done! Now the chicken will lay flat in the pan, which is why it cooks so quickly.Season both sides of chicken with salt, then with all of the spice rub. Remove hot skillet from oven and set over medium-high heat. Add oil, then lay chicken into pan, skin side down. Use a spatula to firmly press chicken against surface, then add 1 lime to pan, placing sides down. Cook until skin is starting to brown, about 2 minutes. Transfer skillet to oven, lay reserved foil over chicken, then weight with second pan. Cook 10 minutes.Remove pan from oven and turn chicken over; cook second side in residual heat 1 minute. Squeeze juice from cooked limes into pan; transfer chicken and pan juices to a plate and serve with remaining lime halves.'\n",
    "\n",
    "\n",
    "refstr_tok = torch_data.vocab.tokenizer(str(refstr))\n",
    "print(refstr_tok)\n",
    "len(refstr_tok)"
   ]
  },
  {
   "cell_type": "code",
   "execution_count": 105,
   "metadata": {},
   "outputs": [
    {
     "data": {
      "text/plain": [
       "0.006742538396031864"
      ]
     },
     "execution_count": 105,
     "metadata": {},
     "output_type": "execute_result"
    }
   ],
   "source": [
    "from torchtext.data.metrics import bleu_score\n",
    "\n",
    "bleu_score([teststr],[[refstr_tok]])"
   ]
  },
  {
   "cell_type": "code",
   "execution_count": 6,
   "metadata": {},
   "outputs": [
    {
     "name": "stderr",
     "output_type": "stream",
     "text": [
      "C:\\Users\\erice\\AppData\\Local\\Packages\\PythonSoftwareFoundation.Python.3.10_qbz5n2kfra8p0\\LocalCache\\local-packages\\Python310\\site-packages\\torchvision\\models\\_utils.py:208: UserWarning: The parameter 'pretrained' is deprecated since 0.13 and may be removed in the future, please use 'weights' instead.\n",
      "  warnings.warn(\n",
      "C:\\Users\\erice\\AppData\\Local\\Packages\\PythonSoftwareFoundation.Python.3.10_qbz5n2kfra8p0\\LocalCache\\local-packages\\Python310\\site-packages\\torchvision\\models\\_utils.py:223: UserWarning: Arguments other than a weight enum or `None` for 'weights' are deprecated since 0.13 and may be removed in the future. The current behavior is equivalent to passing `weights=ResNet101_Weights.IMAGENET1K_V1`. You can also use `weights=ResNet101_Weights.DEFAULT` to get the most up-to-date weights.\n",
      "  warnings.warn(msg)\n"
     ]
    },
    {
     "name": "stdout",
     "output_type": "stream",
     "text": [
      "Loading checkpoint ... \n"
     ]
    },
    {
     "data": {
      "text/plain": [
       "2110"
      ]
     },
     "execution_count": 6,
     "metadata": {},
     "output_type": "execute_result"
    }
   ],
   "source": [
    "from train import load_checkpoint\n",
    "from dataloader import *\n",
    "from model import *\n",
    "\n",
    "train_transforms = transforms.Compose([transforms.RandomRotation(30),\n",
    "                                       transforms.RandomResizedCrop(256),\n",
    "                                       transforms.RandomHorizontalFlip(),\n",
    "                                       transforms.ToTensor(),\n",
    "                                       transforms.Normalize([0.485,0.456,0.406],\n",
    "                                                           [0.229,0.224,0.225])])\n",
    "# valid_transforms = transforms.Compose([transforms.Resize(255),\n",
    "#                                     transforms.CenterCrop(size=224),\n",
    "#                                     transforms.ToTensor(),\n",
    "#                                     transforms.Normalize([0.485,0.456,0.406],\n",
    "#                                                         [0.229,0.224,0.225])])\n",
    "# test_transforms = transforms.Compose([transforms.Resize(255),\n",
    "#                                     transforms.CenterCrop(size=224),\n",
    "#                                     transforms.ToTensor(),\n",
    "#                                     transforms.Normalize([0.485,0.456,0.406],\n",
    "#                                                         [0.229,0.224,0.225])])\n",
    "\n",
    "torch_data = CustomDataset(recipe_csv='Food Ingredients and Recipe Dataset with Image Name Mapping.csv',\n",
    "                                img_dir='Food Images', transform=train_transforms)\n",
    "device = torch.device(\"cuda\" if torch.cuda.is_available() else \"cpu\")\n",
    "# Hyperparameters\n",
    "embed_size = 256\n",
    "hidden_size = 256\n",
    "vocab_size = len(torch_data.vocab)\n",
    "num_layers = 2\n",
    "learning_rate = 3e-4\n",
    "num_epochs = 5\n",
    "model = CNNtoRNN(embed_size, hidden_size, vocab_size, num_layers).to(device)\n",
    "criterion = nn.CrossEntropyLoss(ignore_index=torch_data.vocab.stoi[\"<PAD>\"])\n",
    "optimizer = optim.Adam(model.parameters(), lr=.003)\n",
    "load_checkpoint(torch.load(\"my_checkpoint.pth.tar\"), model, optimizer)"
   ]
  },
  {
   "cell_type": "code",
   "execution_count": null,
   "metadata": {},
   "outputs": [],
   "source": [
    "model.recipe_generate()"
   ]
  }
 ],
 "metadata": {
  "kernelspec": {
   "display_name": "Python 3",
   "language": "python",
   "name": "python3"
  },
  "language_info": {
   "codemirror_mode": {
    "name": "ipython",
    "version": 3
   },
   "file_extension": ".py",
   "mimetype": "text/x-python",
   "name": "python",
   "nbconvert_exporter": "python",
   "pygments_lexer": "ipython3",
   "version": "3.10.11"
  }
 },
 "nbformat": 4,
 "nbformat_minor": 2
}
