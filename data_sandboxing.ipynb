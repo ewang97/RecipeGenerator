{
 "cells": [
  {
   "cell_type": "code",
   "execution_count": 1,
   "metadata": {},
   "outputs": [],
   "source": [
    "import os\n",
    "import numpy as np\n",
    "import pandas as pd\n",
    "import matplotlib.pyplot as plt\n",
    "import torch\n",
    "from torch import nn\n",
    "from torch import optim\n",
    "import torchvision\n",
    "from torchvision import datasets, transforms, models\n",
    "from torch.nn.utils.rnn import pad_sequence\n",
    "from torch.utils.data import Dataset, DataLoader\n",
    "from collections import OrderedDict\n",
    "from PIL import Image\n",
    "import seaborn as sns\n",
    "import splitfolders\n",
    "from IPython.display import display, HTML\n",
    "\n",
    "import torchtext\n",
    "from torchtext.data import get_tokenizer   # for tokenization\n",
    "from collections import Counter     # for tokenizer\n"
   ]
  },
  {
   "cell_type": "code",
   "execution_count": 2,
   "metadata": {},
   "outputs": [],
   "source": [
    "# splitfolders.ratio(\"Food Images\", output=\"food_images\", \n",
    "#                    seed=30, ratio=(.7, .2, .1), \n",
    "#                    group_prefix=None)"
   ]
  },
  {
   "cell_type": "code",
   "execution_count": 3,
   "metadata": {},
   "outputs": [
    {
     "data": {
      "text/plain": [
       "'crispy-salt-and-pepper-potatoes-dan-kluger'"
      ]
     },
     "execution_count": 3,
     "metadata": {},
     "output_type": "execute_result"
    }
   ],
   "source": [
    "data_df = pd.read_csv('Food Ingredients and Recipe Dataset with Image Name Mapping.csv')\n",
    "data_df.iloc[1,4]"
   ]
  },
  {
   "cell_type": "code",
   "execution_count": 4,
   "metadata": {},
   "outputs": [],
   "source": [
    "data_dir = './food_images'\n",
    "train_dir = data_dir + '/train'\n",
    "valid_dir = data_dir + '/val'\n",
    "test_dir = data_dir + '/test'"
   ]
  },
  {
   "cell_type": "code",
   "execution_count": 10,
   "metadata": {},
   "outputs": [],
   "source": [
    "# img,recipe_tokens = torch_data[10]\n",
    "\n",
    "# fig, ax = plt.subplots()\n",
    "# img\n"
   ]
  },
  {
   "cell_type": "code",
   "execution_count": 11,
   "metadata": {},
   "outputs": [],
   "source": [
    "# [torch_data.vocab.itos[token] for token in recipe_tokens.tolist()]"
   ]
  },
  {
   "cell_type": "code",
   "execution_count": 12,
   "metadata": {},
   "outputs": [],
   "source": [
    "# image_data_ref = pd.read_csv('Food Ingredients and Recipe Dataset with Image Name Mapping.csv')\n",
    "# image_data_ref.ndim\n",
    "# display(image_data_ref)\n"
   ]
  },
  {
   "cell_type": "code",
   "execution_count": 13,
   "metadata": {},
   "outputs": [],
   "source": [
    "##recipe"
   ]
  },
  {
   "cell_type": "code",
   "execution_count": 38,
   "metadata": {},
   "outputs": [
    {
     "name": "stderr",
     "output_type": "stream",
     "text": [
      "C:\\Users\\erice\\AppData\\Local\\Packages\\PythonSoftwareFoundation.Python.3.10_qbz5n2kfra8p0\\LocalCache\\local-packages\\Python310\\site-packages\\torchvision\\models\\_utils.py:208: UserWarning: The parameter 'pretrained' is deprecated since 0.13 and may be removed in the future, please use 'weights' instead.\n",
      "  warnings.warn(\n",
      "C:\\Users\\erice\\AppData\\Local\\Packages\\PythonSoftwareFoundation.Python.3.10_qbz5n2kfra8p0\\LocalCache\\local-packages\\Python310\\site-packages\\torchvision\\models\\_utils.py:223: UserWarning: Arguments other than a weight enum or `None` for 'weights' are deprecated since 0.13 and may be removed in the future. The current behavior is equivalent to passing `weights=ResNet101_Weights.IMAGENET1K_V1`. You can also use `weights=ResNet101_Weights.DEFAULT` to get the most up-to-date weights.\n",
      "  warnings.warn(msg)\n"
     ]
    },
    {
     "data": {
      "text/plain": [
       "<All keys matched successfully>"
      ]
     },
     "execution_count": 38,
     "metadata": {},
     "output_type": "execute_result"
    }
   ],
   "source": [
    "from dataloader import *\n",
    "from model import *\n",
    "path = 'my_checkpoint.pth.tar'\n",
    "checkpoint = torch.load(path)\n",
    "\n",
    "device = torch.device(\"cuda\" if torch.cuda.is_available() else \"cpu\")\n",
    "# Hyperparameters\n",
    "embed_size = 256\n",
    "hidden_size = 256\n",
    "vocab_size = len(torch_data.vocab)\n",
    "num_layers = 2\n",
    "learning_rate = 3e-4\n",
    "num_epochs = 1\n",
    "\n",
    "model = CNNtoRNN(embed_size, hidden_size, vocab_size, num_layers).to(device)\n",
    "model.load_state_dict(checkpoint['state_dict'])\n",
    "\n",
    "# No use\n",
    "# optimizer.load_state_dict(checkpoint['optimizer_state_dict'])\n",
    "# epoch = checkpoint['epoch']  # ALREADY DEFFINED ABOE\n",
    "# loss = checkpoint['loss']"
   ]
  },
  {
   "cell_type": "code",
   "execution_count": 44,
   "metadata": {},
   "outputs": [
    {
     "data": {
      "text/plain": [
       "['<START>',\n",
       " 'put',\n",
       " 'place',\n",
       " 'butter',\n",
       " 'in',\n",
       " 'large',\n",
       " 'pan',\n",
       " '.',\n",
       " 'mix',\n",
       " 'the',\n",
       " 'garlic',\n",
       " 'cream',\n",
       " ',',\n",
       " 'and',\n",
       " 'pepper',\n",
       " 'in',\n",
       " 'a',\n",
       " 'season',\n",
       " ',',\n",
       " 'cut',\n",
       " 'over',\n",
       " 'the',\n",
       " 'pan',\n",
       " '(',\n",
       " 'desired',\n",
       " 'can',\n",
       " 'be',\n",
       " 'dough',\n",
       " 'is',\n",
       " 'have',\n",
       " 'slightly',\n",
       " 'to',\n",
       " 'frozen',\n",
       " ',',\n",
       " 'up',\n",
       " 'the',\n",
       " 'grind',\n",
       " 'dough',\n",
       " 'in',\n",
       " 'hot',\n",
       " '.',\n",
       " ')',\n",
       " 'put',\n",
       " 'oven',\n",
       " 'in',\n",
       " 'flour',\n",
       " 'in',\n",
       " 'middle',\n",
       " '.',\n",
       " 'cut',\n",
       " 'out',\n",
       " 'a',\n",
       " 'large',\n",
       " 'sieve',\n",
       " 'into',\n",
       " 'dishes',\n",
       " '.',\n",
       " 'cut',\n",
       " 'crumbs',\n",
       " 'in',\n",
       " 'each',\n",
       " 'half',\n",
       " 'on',\n",
       " 'platter',\n",
       " 'and',\n",
       " 'refrigerate',\n",
       " ',',\n",
       " 'pushing',\n",
       " 'them',\n",
       " 'in',\n",
       " 'each',\n",
       " 'sides',\n",
       " '.',\n",
       " 'dust',\n",
       " 'a',\n",
       " 'colander',\n",
       " 'of',\n",
       " 'the',\n",
       " 'cake',\n",
       " 'evenly',\n",
       " 'in',\n",
       " '1',\n",
       " 'inch',\n",
       " 'cream',\n",
       " '.',\n",
       " 'bake',\n",
       " 'until',\n",
       " 'smooth',\n",
       " '.',\n",
       " 'mound',\n",
       " 'buttermilk',\n",
       " 'into',\n",
       " 'a',\n",
       " 'large',\n",
       " 'bowl',\n",
       " 'and',\n",
       " 'spread',\n",
       " 'the',\n",
       " 'garlic',\n",
       " 'and']"
      ]
     },
     "execution_count": 44,
     "metadata": {},
     "output_type": "execute_result"
    }
   ],
   "source": [
    "img,recipe_tokens = torch_data[1]\n",
    "model.recipe_generate(img.unsqueeze(0), torch_data.vocab, max_length = 100)\n",
    "\n"
   ]
  },
  {
   "cell_type": "code",
   "execution_count": 25,
   "metadata": {},
   "outputs": [
    {
     "data": {
      "text/plain": [
       "Unnamed: 0                                                             1\n",
       "Title                                    Crispy Salt and Pepper Potatoes\n",
       "Ingredients            ['2 large egg whites', '1 pound new potatoes (...\n",
       "Instructions           Preheat oven to 400°F and line a rimmed baking...\n",
       "Image_Name                    crispy-salt-and-pepper-potatoes-dan-kluger\n",
       "Cleaned_Ingredients    ['2 large egg whites', '1 pound new potatoes (...\n",
       "Name: 1, dtype: object"
      ]
     },
     "execution_count": 25,
     "metadata": {},
     "output_type": "execute_result"
    }
   ],
   "source": [
    "torch_data.recipe_df.iloc[1]"
   ]
  }
 ],
 "metadata": {
  "kernelspec": {
   "display_name": "Python 3",
   "language": "python",
   "name": "python3"
  },
  "language_info": {
   "codemirror_mode": {
    "name": "ipython",
    "version": 3
   },
   "file_extension": ".py",
   "mimetype": "text/x-python",
   "name": "python",
   "nbconvert_exporter": "python",
   "pygments_lexer": "ipython3",
   "version": "3.10.11"
  }
 },
 "nbformat": 4,
 "nbformat_minor": 2
}
